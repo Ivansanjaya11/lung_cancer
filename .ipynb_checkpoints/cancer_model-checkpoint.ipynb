{
 "cells": [
  {
   "cell_type": "markdown",
   "id": "8b043227-5669-4e49-849b-f4d36ac5448e",
   "metadata": {
    "tags": []
   },
   "source": [
    "# The IQ-OTH/NCCD lung cancer dataset\n",
    "## Lung Cancer CT Scans from Iraqi hospitals: Normal, Benign, and Malignant Cases"
   ]
  },
  {
   "cell_type": "markdown",
   "id": "3af784c5-f21d-4b22-a540-82fee2863153",
   "metadata": {
    "tags": []
   },
   "source": [
    "## About Dataset\n",
    "The Iraq-Oncology Teaching Hospital/National Center for Cancer Diseases (IQ-OTH/NCCD) lung cancer dataset was collected in the above-mentioned specialist hospitals over a period of three months in fall 2019. It includes CT scans of patients diagnosed with lung cancer in different stages, as well as healthy subjects. IQ-OTH/NCCD slides were marked by oncologists and radiologists in these two centers. The dataset contains a total of 1190 images representing CT scan slices of 110 cases. These cases are grouped into three classes: normal, benign, and malignant. of these, 40 cases are diagnosed as malignant; 15 cases diagnosed with benign; and 55 cases classified as normal cases. The CT scans were originally collected in DICOM format. The scanner used is SOMATOM from Siemens. CT protocol includes: 120 kV, slice thickness of 1 mm, with window width ranging from 350 to 1200 HU and window center from 50 to 600 were used for reading. with breath hold at full inspiration. All images were de-identified before performing analysis. Written consent was waived by the oversight review board. The study was approved by the institutional review board of participating medical centers. Each scan contains several slices. The number of these slices range from 80 to 200 slices, each of them represents an image of the human chest with different sides and angles. The 110 cases vary in gender, age, educational attainment, area of residence and living status. Some of them are employees of the Iraqi ministries of Transport and Oil, others are farmers and gainers. Most of them come from places in the middle region of Iraq, particularly, the provinces of Baghdad, Wasit, Diyala, Salahuddin, and Babylon.\n",
    "\n",
    "if you use this dataset you should cite the following articles:\n",
    "\n",
    "1- Diagnosis of lung cancer based on CT scans using CNN\n",
    "can be cited as :\n",
    "(H. F. Al-Yasriy, M. S. Al-Husieny, F. Y. Mohsen, E. A. Khalil, and Z. S. Hassan, \"Diagnosis of Lung Cancer Based on CT Scans Using CNN,\" IOP Conference Series: Materials Science and Engineering, vol. 928, 2020.)\n",
    "\n",
    "2- Evaluation of SVM performance in the detection of lung cancer in marked CT scan dataset\n",
    "can be cited as:\n",
    "(H. F. Kareem, M. S. A.-Husieny, F. Y. Mohsen, E. A. Khalil, and Z. S. Hassan, “Evaluation of SVM performance in the detection\n",
    "of lung cancer in marked CT scan dataset,” Indonesian Journal of Electrical Engineering and Computer Science, vol. 21, no. 3,\n",
    "pp. 1731-1738, 2021, doi: 10.11591/ijeecs.v21.i3.pp1731-1738.)\n",
    "\n",
    "3- The IQ-OTH/NCCD lung cancer dataset\n",
    "can be cited as :\n",
    "(alyasriy, hamdalla; AL-Huseiny, Muayed (2023), “The IQ-OTH/NCCD lung cancer dataset”, Mendeley Data, V4, doi: 10.17632/bhmdr45bh2.4)"
   ]
  },
  {
   "cell_type": "markdown",
   "id": "f5c09102-5855-4892-8f9d-1db7b508aedc",
   "metadata": {},
   "source": [
    "# Import Libraries"
   ]
  },
  {
   "cell_type": "code",
   "execution_count": 2,
   "id": "b8b18272-4bcb-4dd3-a140-ee5b88a40925",
   "metadata": {},
   "outputs": [],
   "source": [
    "import numpy as np\n",
    "import pandas as pd\n",
    "import matplotlib.pyplot as plt\n",
    "import os\n",
    "import seaborn as sns"
   ]
  },
  {
   "cell_type": "code",
   "execution_count": 4,
   "id": "6f162a96-3901-4713-90ae-75bcd748ed46",
   "metadata": {
    "tags": []
   },
   "outputs": [],
   "source": [
    "directory = r\".../iqothnccd-lung-cancer-dataset/The IQ-OTHNCCD lung cancer dataset\"\n",
    "categories = [\"Bengin cases\", \"Malignant cases\", \"Normal cases\"]\n",
    "\n",
    "benign_directory = directory + \"/\" + categories[0]\n",
    "malignant_directory = directory + \"/\" + categories[1]\n",
    "normal_directory = directory + \"/\" + categories[2]"
   ]
  },
  {
   "cell_type": "code",
   "execution_count": 5,
   "id": "9d5d564e-92aa-49c5-b097-c34868a63fbd",
   "metadata": {
    "tags": []
   },
   "outputs": [
    {
     "ename": "SyntaxError",
     "evalue": "illegal target for annotation (4019908538.py, line 3)",
     "output_type": "error",
     "traceback": [
      "\u001b[1;36m  Cell \u001b[1;32mIn[5], line 3\u001b[1;36m\u001b[0m\n\u001b[1;33m    \"benign\": [path_case1, path_case2]\u001b[0m\n\u001b[1;37m    ^\u001b[0m\n\u001b[1;31mSyntaxError\u001b[0m\u001b[1;31m:\u001b[0m illegal target for annotation\n"
     ]
    }
   ],
   "source": [
    "# saving the path of all data in dictionary\n",
    "/*\n",
    "\"benign\": [path_case1, path_case2]\n",
    "*/\n",
    "image_paths = {}\n",
    "for category in categories:\n",
    "    folder_path = os.path.join(directory, category)\n",
    "    folder_image_contents = os.listdir(folder_path)\n",
    "    all_image_paths_in_one_directory = []\n",
    "    for image_file in folder_image_contents:\n",
    "        image_file_path = os.listdir(folder_path, image_file)\n",
    "        all_image_paths_in_one_directory.append(image_file_path)\n",
    "    image_paths[category] = all_image_paths_in_one_directory\n",
    "\n",
    "image_paths_df = pd.DataFrame(image_paths)\n",
    "\n",
    "print(image_paths_df.head())        \n",
    "        "
   ]
  },
  {
   "cell_type": "markdown",
   "id": "45a75c44-1353-417a-90c9-c734dd10f4ef",
   "metadata": {},
   "source": [
    "# Image resizing"
   ]
  },
  {
   "cell_type": "code",
   "execution_count": null,
   "id": "986de95e-425c-4649-b998-ffc091719ca2",
   "metadata": {},
   "outputs": [],
   "source": []
  },
  {
   "cell_type": "markdown",
   "id": "51354bfe-8443-4868-903d-2a47179486be",
   "metadata": {},
   "source": [
    "# Color conversion"
   ]
  },
  {
   "cell_type": "markdown",
   "id": "f8e43760-bed9-4e84-9b2a-f00b0661eb49",
   "metadata": {},
   "source": []
  },
  {
   "cell_type": "markdown",
   "id": "5c8d544a-9614-4fa5-a43e-a4440c1f7622",
   "metadata": {},
   "source": [
    "# Image smoothing"
   ]
  },
  {
   "cell_type": "code",
   "execution_count": null,
   "id": "faa6b13e-607c-4fed-b207-ea613fcf5dc0",
   "metadata": {},
   "outputs": [],
   "source": []
  },
  {
   "cell_type": "markdown",
   "id": "4461c003-2f89-47d8-bfc6-47a24b9d218d",
   "metadata": {},
   "source": [
    "# Data normalization"
   ]
  },
  {
   "cell_type": "code",
   "execution_count": null,
   "id": "864f00e0-d989-40d1-9fd6-e8ac3d2aa873",
   "metadata": {},
   "outputs": [],
   "source": []
  },
  {
   "cell_type": "markdown",
   "id": "d6c00b12-a25f-4c82-93e9-a9daa05bef2f",
   "metadata": {},
   "source": [
    "# Data splitting"
   ]
  },
  {
   "cell_type": "code",
   "execution_count": null,
   "id": "5f1b23c6-534c-4bf8-bb6f-2a60b281e6ab",
   "metadata": {},
   "outputs": [],
   "source": []
  },
  {
   "cell_type": "markdown",
   "id": "317fbd20-4b79-4fbb-9a19-d04852aac1fd",
   "metadata": {},
   "source": [
    "# Handling data imbalance"
   ]
  },
  {
   "cell_type": "code",
   "execution_count": null,
   "id": "7d56b476-bb4d-40e2-a2f1-323ccc28be76",
   "metadata": {},
   "outputs": [],
   "source": []
  }
 ],
 "metadata": {
  "kernelspec": {
   "display_name": "Python 3 (ipykernel)",
   "language": "python",
   "name": "python3"
  },
  "language_info": {
   "codemirror_mode": {
    "name": "ipython",
    "version": 3
   },
   "file_extension": ".py",
   "mimetype": "text/x-python",
   "name": "python",
   "nbconvert_exporter": "python",
   "pygments_lexer": "ipython3",
   "version": "3.11.4"
  }
 },
 "nbformat": 4,
 "nbformat_minor": 5
}
